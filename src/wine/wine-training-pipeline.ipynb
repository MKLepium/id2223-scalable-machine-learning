{
 "cells": [
  {
   "cell_type": "code",
   "execution_count": 2,
   "id": "063d9a22",
   "metadata": {},
   "outputs": [
    {
     "name": "stderr",
     "output_type": "stream",
     "text": [
      "/Users/wasp/Documents/kth/scalable-ml-dl/id2223-scalable-machine-learning/.venv/lib/python3.9/site-packages/tqdm/auto.py:21: TqdmWarning: IProgress not found. Please update jupyter and ipywidgets. See https://ipywidgets.readthedocs.io/en/stable/user_install.html\n",
      "  from .autonotebook import tqdm as notebook_tqdm\n"
     ]
    }
   ],
   "source": [
    "import hopsworks\n",
    "import pandas as pd\n",
    "from sklearn.neighbors import KNeighborsClassifier\n",
    "from sklearn.metrics import accuracy_score\n",
    "from sklearn.metrics import confusion_matrix\n",
    "from sklearn.metrics import classification_report\n",
    "import seaborn as sns\n",
    "from matplotlib import pyplot\n",
    "from hsml.schema import Schema\n",
    "from hsml.model_schema import ModelSchema\n",
    "import joblib\n",
    "import os"
   ]
  },
  {
   "cell_type": "code",
   "execution_count": 3,
   "id": "ca8d99df",
   "metadata": {},
   "outputs": [],
   "source": [
    "import os\n",
    " \n",
    "for k, v in os.environ.items():\n",
    "    if \"HOPS\" in k:\n",
    "        print(f'{k}={v}')"
   ]
  },
  {
   "cell_type": "code",
   "execution_count": 4,
   "id": "5ce90341",
   "metadata": {},
   "outputs": [
    {
     "name": "stdout",
     "output_type": "stream",
     "text": [
      "Connected. Call `.close()` to terminate connection gracefully.\n",
      "\n",
      "Logged in to project, explore it here https://c.app.hopsworks.ai:443/p/185496\n",
      "Connected. Call `.close()` to terminate connection gracefully.\n"
     ]
    }
   ],
   "source": [
    "# You have to set the environment variable 'HOPSWORKS_API_KEY' for login to succeed\n",
    "project = hopsworks.login()\n",
    "fs = project.get_feature_store()"
   ]
  },
  {
   "cell_type": "code",
   "execution_count": 50,
   "id": "359ed7b3",
   "metadata": {},
   "outputs": [
    {
     "name": "stdout",
     "output_type": "stream",
     "text": [
      "Feature view created successfully, explore it at \n",
      "https://c.app.hopsworks.ai:443/p/185496/fs/185415/fv/wine/version/7\n"
     ]
    }
   ],
   "source": [
    "# The feature view is the input set of features for your model. The features can come from different feature groups.    \n",
    "# You can select features from different feature groups and join them together to create a feature view\n",
    "\n",
    "# FEATURE_GROUPS = [2, 3]\n",
    "\n",
    "# wine_fgs = [fs.get_feature_group(name=\"wine\", version=x) for x in FEATURE_GROUPS]\n",
    "\n",
    "wine_fg = fs.get_feature_group(name=\"wine\", version=2)\n",
    "\n",
    "# without citric acid it performs better\n",
    "query = wine_fg.select_except([\"citric_acid\"])\n",
    "# query = wine_fg.select_all()\n",
    "feature_view = fs.get_or_create_feature_view(name=\"wine\",\n",
    "                                version=7,\n",
    "                                description=\"Read from Wine quality dataset\",\n",
    "                                labels=[\"quality\"],\n",
    "                                query=query)\n",
    "\n",
    "# feature_views = []\n",
    "# for i, fg in enumerate(wine_fgs, FEATURE_GROUPS[0]):\n",
    "#     query = fg.select_all()\n",
    "#     feature_views.append(fs.get_or_create_feature_view(name=\"wine\",\n",
    "#                                     version=i,\n",
    "#                                     description=\"Read from Wine quality dataset\",\n",
    "#                                     labels=[\"quality\"],\n",
    "#                                     query=query))"
   ]
  },
  {
   "cell_type": "code",
   "execution_count": 96,
   "id": "42fbcfd3",
   "metadata": {},
   "outputs": [
    {
     "name": "stdout",
     "output_type": "stream",
     "text": [
      "Finished: Reading data from Hopsworks, using ArrowFlight (1.27s) \n"
     ]
    },
    {
     "name": "stderr",
     "output_type": "stream",
     "text": [
      "VersionWarning: Incremented version to `29`.\n"
     ]
    },
    {
     "name": "stdout",
     "output_type": "stream",
     "text": [
      "DecisionTreeClassifier() 0.47462406015037595 0.05239605903625488\n",
      "LinearRegression() 0.3496035062575594 0.004104137420654297\n",
      "KNeighborsClassifier(n_neighbors=6) 0.4426691729323308 0.001703023910522461\n",
      "RandomForestClassifier() 0.5582706766917294 0.5781121253967285\n",
      "RandomForestClassifier(n_estimators=200) 0.5639097744360902 1.0063738822937012\n",
      "RandomForestClassifier(n_estimators=600) 0.5714285714285714 2.991034746170044\n",
      "RandomForestClassifier(max_depth=10, n_estimators=200) 0.5516917293233082 0.7455158233642578\n",
      "DecisionTreeClassifier() 0.4906015037593985 0.022691011428833008\n",
      "LinearRegression() 0.3496035062575594 0.0015749931335449219\n",
      "KNeighborsClassifier(n_neighbors=6) 0.4426691729323308 0.001500844955444336\n",
      "RandomForestClassifier() 0.5601503759398496 0.5683119297027588\n",
      "RandomForestClassifier(n_estimators=200) 0.5545112781954887 0.9766299724578857\n",
      "RandomForestClassifier(n_estimators=600) 0.5657894736842105 2.941438913345337\n",
      "RandomForestClassifier(max_depth=10, n_estimators=200) 0.5507518796992481 0.729921817779541\n",
      "DecisionTreeClassifier() 0.46522556390977443 0.022340774536132812\n",
      "LinearRegression() 0.3496035062575594 0.001580953598022461\n",
      "KNeighborsClassifier(n_neighbors=6) 0.4426691729323308 0.0015270709991455078\n",
      "RandomForestClassifier() 0.5639097744360902 0.5921170711517334\n",
      "RandomForestClassifier(n_estimators=200) 0.5592105263157895 0.9837250709533691\n",
      "RandomForestClassifier(n_estimators=600) 0.5667293233082706 2.9620368480682373\n",
      "RandomForestClassifier(max_depth=10, n_estimators=200) 0.5526315789473685 0.7178170680999756\n",
      "DecisionTreeClassifier() 0.48026315789473684 0.023482084274291992\n",
      "LinearRegression() 0.3496035062575594 0.001402139663696289\n",
      "KNeighborsClassifier(n_neighbors=6) 0.4426691729323308 0.0014955997467041016\n",
      "RandomForestClassifier() 0.5639097744360902 0.5490708351135254\n",
      "RandomForestClassifier(n_estimators=200) 0.5657894736842105 0.9731121063232422\n",
      "RandomForestClassifier(n_estimators=600) 0.5676691729323309 2.979095220565796\n",
      "RandomForestClassifier(max_depth=10, n_estimators=200) 0.5507518796992481 0.7348828315734863\n",
      "DecisionTreeClassifier() 0.4708646616541353 0.02257990837097168\n",
      "LinearRegression() 0.3496035062575594 0.0016751289367675781\n",
      "KNeighborsClassifier(n_neighbors=6) 0.4426691729323308 0.0015020370483398438\n",
      "RandomForestClassifier() 0.5714285714285714 0.5927469730377197\n",
      "RandomForestClassifier(n_estimators=200) 0.5714285714285714 1.0019049644470215\n",
      "RandomForestClassifier(n_estimators=600) 0.5704887218045113 3.0093181133270264\n",
      "RandomForestClassifier(max_depth=10, n_estimators=200) 0.5582706766917294 0.7447690963745117\n",
      "DecisionTreeClassifier() 0.48402255639097747 0.022815942764282227\n",
      "LinearRegression() 0.3496035062575594 0.001611948013305664\n",
      "KNeighborsClassifier(n_neighbors=6) 0.4426691729323308 0.0015070438385009766\n",
      "RandomForestClassifier() 0.5610902255639098 0.59039306640625\n",
      "RandomForestClassifier(n_estimators=200) 0.5648496240601504 1.0027613639831543\n",
      "RandomForestClassifier(n_estimators=600) 0.5704887218045113 3.063498020172119\n",
      "RandomForestClassifier(max_depth=10, n_estimators=200) 0.5573308270676691 0.741743803024292\n",
      "DecisionTreeClassifier() 0.4633458646616541 0.022555112838745117\n",
      "LinearRegression() 0.3496035062575594 0.0014030933380126953\n",
      "KNeighborsClassifier(n_neighbors=6) 0.4426691729323308 0.0016827583312988281\n",
      "RandomForestClassifier() 0.5592105263157895 0.63749098777771\n",
      "RandomForestClassifier(n_estimators=200) 0.568609022556391 1.05336594581604\n",
      "RandomForestClassifier(n_estimators=600) 0.5723684210526315 2.994704008102417\n",
      "RandomForestClassifier(max_depth=10, n_estimators=200) 0.5526315789473685 0.7157487869262695\n",
      "DecisionTreeClassifier() 0.46616541353383456 0.02278280258178711\n",
      "LinearRegression() 0.3496035062575594 0.0016009807586669922\n",
      "KNeighborsClassifier(n_neighbors=6) 0.4426691729323308 0.0015690326690673828\n",
      "RandomForestClassifier() 0.5601503759398496 0.5517137050628662\n",
      "RandomForestClassifier(n_estimators=200) 0.5704887218045113 0.9772789478302002\n",
      "RandomForestClassifier(n_estimators=600) 0.575187969924812 2.9291749000549316\n",
      "RandomForestClassifier(max_depth=10, n_estimators=200) 0.5545112781954887 0.7151811122894287\n",
      "DecisionTreeClassifier() 0.4755639097744361 0.022064924240112305\n",
      "LinearRegression() 0.3496035062575594 0.0030641555786132812\n",
      "KNeighborsClassifier(n_neighbors=6) 0.4426691729323308 0.004114866256713867\n",
      "RandomForestClassifier() 0.5676691729323309 0.5739729404449463\n",
      "RandomForestClassifier(n_estimators=200) 0.5667293233082706 0.9793751239776611\n",
      "RandomForestClassifier(n_estimators=600) 0.575187969924812 2.932349920272827\n",
      "RandomForestClassifier(max_depth=10, n_estimators=200) 0.5535714285714286 0.7149381637573242\n",
      "DecisionTreeClassifier() 0.46522556390977443 0.022224903106689453\n",
      "LinearRegression() 0.3496035062575594 0.0017480850219726562\n",
      "KNeighborsClassifier(n_neighbors=6) 0.4426691729323308 0.006267070770263672\n",
      "RandomForestClassifier() 0.5610902255639098 0.5872910022735596\n",
      "RandomForestClassifier(n_estimators=200) 0.5629699248120301 1.0512592792510986\n",
      "RandomForestClassifier(n_estimators=600) 0.5714285714285714 2.9463160037994385\n",
      "RandomForestClassifier(max_depth=10, n_estimators=200) 0.556390977443609 0.7313668727874756\n",
      "scores [0.4735902255639098, 0.3496035062575595, 0.44266917293233077, 0.5626879699248122, 0.5648496240601504, 0.5706766917293232, 0.5538533834586467]\n",
      "Best model: RandomForestClassifier(n_estimators=600)\n"
     ]
    }
   ],
   "source": [
    "from sklearn.linear_model import LinearRegression\n",
    "from sklearn import tree\n",
    "from sklearn.ensemble import RandomForestClassifier, RandomForestRegressor\n",
    "import time\n",
    "\n",
    "# You can read training data, randomly split into train/test sets of features (X) and labels (y)        \n",
    "\n",
    "models = [\n",
    "    tree.DecisionTreeClassifier(),\n",
    "    LinearRegression(),\n",
    "    KNeighborsClassifier(n_neighbors=6),\n",
    "    RandomForestClassifier(),\n",
    "    RandomForestClassifier(n_estimators=200),\n",
    "    RandomForestClassifier(n_estimators=600),\n",
    "    RandomForestClassifier(max_depth=10, n_estimators=200),\n",
    "]\n",
    "\n",
    "scores = [0] * len(models)\n",
    "scores = [0] * len(models)\n",
    "runs = 10\n",
    "\n",
    "X_train, X_test, y_train, y_test = feature_view.train_test_split(0.2)\n",
    "\n",
    "for _ in range(runs):\n",
    "    for i, m in enumerate(models):\n",
    "        start = time.time()\n",
    "        m = m.fit(X_train, y_train.values.ravel())\n",
    "        stop = time.time() - start\n",
    "        score = m.score(X_test, y_test)\n",
    "        scores[i] += score\n",
    "        print(m, score, stop)\n",
    "\n",
    "# get the average score for each model\n",
    "for i, score in enumerate(scores):\n",
    "    scores[i] = score / runs\n",
    "\n",
    "print(\"scores\", scores)\n",
    "\n",
    "# get the best model\n",
    "best_model = models[scores.index(max(scores))]\n",
    "print(\"Best model:\", best_model)\n",
    "\n",
    "# best result: RandomForestClassifier(n_estimators=200)\n",
    "\n",
    "# # train our model with linear regression algorithm\n",
    "# for i, fv in enumerate(feature_views, FEATURE_GROUPS[0]):\n",
    "#     print(\"fv\", i)\n",
    "#     X_train, X_test, y_train, y_test = fv.train_test_split(0.2)\n",
    "#     for model in models:\n",
    "#         model = model.fit(X_train, y_train.values.ravel())\n",
    "#         print(model, model.score(X_test, y_test))\n",
    "#     print()\n",
    "\n",
    "# Evaluate the model\n",
    "# print(\"Accuracy: {}\".format(accuracy_score(y_test, pred_labels)))\n",
    "# print(\"Confusion matrix: \\n{}\".format(confusion_matrix(y_test, pred_labels)))\n",
    "# print(\"Classification report: \\n{}\".format(classification_report(y_test, pred_labels)))\n"
   ]
  },
  {
   "cell_type": "code",
   "execution_count": 101,
   "metadata": {},
   "outputs": [],
   "source": [
    "# best result: RandomForestClassifier(n_estimators=600)\n",
    "# it's much slower than the others but that doesn't matter in this case\n",
    "\n",
    "model = RandomForestClassifier(n_estimators=600)\n",
    "model = model.fit(X_train, y_train.values.ravel())"
   ]
  },
  {
   "cell_type": "code",
   "execution_count": 102,
   "id": "77aa0aee",
   "metadata": {},
   "outputs": [
    {
     "name": "stdout",
     "output_type": "stream",
     "text": [
      "y_pred\n",
      "metrics\n",
      "{'3': {'precision': 0.0, 'recall': 0.0, 'f1-score': 0.0, 'support': 1}, '4': {'precision': 0.5, 'recall': 0.09302325581395349, 'f1-score': 0.15686274509803924, 'support': 43}, '5': {'precision': 0.6455331412103746, 'recall': 0.6103542234332425, 'f1-score': 0.627450980392157, 'support': 367}, '6': {'precision': 0.53, 'recall': 0.7327188940092166, 'f1-score': 0.6150870406189556, 'support': 434}, '7': {'precision': 0.6571428571428571, 'recall': 0.3612565445026178, 'f1-score': 0.46621621621621623, 'support': 191}, '8': {'precision': 0.75, 'recall': 0.1111111111111111, 'f1-score': 0.19354838709677416, 'support': 27}, '9': {'precision': 0.0, 'recall': 0.0, 'f1-score': 0.0, 'support': 1}, 'accuracy': 0.5808270676691729, 'macro avg': {'precision': 0.4403822854790331, 'recall': 0.27263771841002027, 'f1-score': 0.29416648134602025, 'support': 1064}, 'weighted avg': {'precision': 0.5960478839647493, 'recall': 0.5808270676691729, 'f1-score': 0.5622560970119119, 'support': 1064}}\n",
      "results\n"
     ]
    }
   ],
   "source": [
    "# Evaluate model performance using the features from the test set (X_test)\n",
    "print(\"y_pred\")\n",
    "y_pred = model.predict(X_test)\n",
    "\n",
    "# Compare predictions (y_pred) with the labels in the test set (y_test)\n",
    "print(\"metrics\")\n",
    "metrics = classification_report(y_test, y_pred, output_dict=True, zero_division=0)\n",
    "print(metrics)\n",
    "print(\"results\")\n",
    "results = confusion_matrix(y_test, y_pred)"
   ]
  },
  {
   "cell_type": "code",
   "execution_count": 103,
   "id": "4d944032",
   "metadata": {},
   "outputs": [
    {
     "data": {
      "image/png": "[encoded data removed]",
      "text/plain": [
       "<Figure size 640x480 with 2 Axes>"
      ]
     },
     "metadata": {},
     "output_type": "display_data"
    }
   ],
   "source": [
    "# Create the confusion matrix as a figure, we will later store it as a PNG image file\n",
    "df_cm = pd.DataFrame(results)\n",
    "cm = sns.heatmap(df_cm, annot=True)\n",
    "fig = cm.get_figure()"
   ]
  },
  {
   "cell_type": "code",
   "execution_count": 104,
   "id": "bcfdfc4f",
   "metadata": {},
   "outputs": [
    {
     "name": "stdout",
     "output_type": "stream",
     "text": [
      "Connected. Call `.close()` to terminate connection gracefully.\n"
     ]
    },
    {
     "name": "stderr",
     "output_type": "stream",
     "text": [
      "Uploading: 100.000%|██████████| 23350/23350 elapsed<00:01 remaining<00:001,  2.98it/s]\n",
      "Uploading: 100.000%|██████████| 148580881/148580881 elapsed<01:19 remaining<00:00it/s]\n",
      "Uploading: 100.000%|██████████| 992/992 elapsed<00:01 remaining<00:00<03:12, 48.03s/it]\n",
      "Model export complete: 100%|██████████| 6/6 [01:29<00:00, 14.88s/it]                   "
     ]
    },
    {
     "name": "stdout",
     "output_type": "stream",
     "text": [
      "Model created, explore it at https://c.app.hopsworks.ai:443/p/185496/models/wine_model/2\n"
     ]
    },
    {
     "name": "stderr",
     "output_type": "stream",
     "text": [
      "\n"
     ]
    },
    {
     "data": {
      "text/plain": [
       "Model(name: 'wine_model', version: 2)"
      ]
     },
     "execution_count": 104,
     "metadata": {},
     "output_type": "execute_result"
    }
   ],
   "source": [
    "# We will now upload our model to the Hopsworks Model Registry. First get an object for the model registry.\n",
    "mr = project.get_model_registry()\n",
    "\n",
    "# The contents of the 'wine_model' directory will be saved to the model registry. Create the dir, first.\n",
    "model_dir=\"wine_model\"\n",
    "if os.path.isdir(model_dir) == False:\n",
    "    os.mkdir(model_dir)\n",
    "\n",
    "# Save both our model and the confusion matrix to 'model_dir', whose contents will be uploaded to the model registry\n",
    "joblib.dump(model, model_dir + \"/wine_model.pkl\")\n",
    "fig.savefig(model_dir + \"/confusion_matrix.png\")    \n",
    "\n",
    "# Specify the schema of the model's input/output using the features (X_train) and labels (y_train)\n",
    "input_schema = Schema(X_train)\n",
    "output_schema = Schema(y_train)\n",
    "model_schema = ModelSchema(input_schema, output_schema)\n",
    "\n",
    "# Create an entry in the model registry that includes the model's name, desc, metrics\n",
    "wine_model = mr.python.create_model(\n",
    "    name=\"wine_model\", \n",
    "    metrics={\"accuracy\" : metrics['accuracy']},\n",
    "    model_schema=model_schema,\n",
    "    description=\"Wine Quality Predictor\"\n",
    ")\n",
    "\n",
    "# Upload the model to the model registry, including all files in 'model_dir'\n",
    "wine_model.save(model_dir)"
   ]
  },
  {
   "cell_type": "code",
   "execution_count": null,
   "id": "f707b056",
   "metadata": {},
   "outputs": [],
   "source": []
  }
 ],
 "metadata": {
  "kernelspec": {
   "display_name": "Python 3 (ipykernel)",
   "language": "python",
   "name": "python3"
  },
  "language_info": {
   "codemirror_mode": {
    "name": "ipython",
    "version": 3
   },
   "file_extension": ".py",
   "mimetype": "text/x-python",
   "name": "python",
   "nbconvert_exporter": "python",
   "pygments_lexer": "ipython3",
   "version": "3.9.6"
  }
 },
 "nbformat": 4,
 "nbformat_minor": 5
}
